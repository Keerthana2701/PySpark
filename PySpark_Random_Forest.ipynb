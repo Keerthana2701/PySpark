{
  "nbformat": 4,
  "nbformat_minor": 0,
  "metadata": {
    "colab": {
      "name": "PySpark-Random Forest.ipynb",
      "provenance": [],
      "collapsed_sections": []
    },
    "kernelspec": {
      "name": "python3",
      "display_name": "Python 3"
    },
    "language_info": {
      "name": "python"
    }
  },
  "cells": [
    {
      "cell_type": "code",
      "metadata": {
        "colab": {
          "base_uri": "https://localhost:8080/"
        },
        "id": "PvF-Mm0YGv0s",
        "outputId": "3f0d61f5-929c-48b3-f74f-94159498ba63"
      },
      "source": [
        "pip install pyspark"
      ],
      "execution_count": 2,
      "outputs": [
        {
          "output_type": "stream",
          "text": [
            "Collecting pyspark\n",
            "  Downloading pyspark-3.1.2.tar.gz (212.4 MB)\n",
            "\u001b[K     |████████████████████████████████| 212.4 MB 66 kB/s \n",
            "\u001b[?25hCollecting py4j==0.10.9\n",
            "  Downloading py4j-0.10.9-py2.py3-none-any.whl (198 kB)\n",
            "\u001b[K     |████████████████████████████████| 198 kB 63.2 MB/s \n",
            "\u001b[?25hBuilding wheels for collected packages: pyspark\n",
            "  Building wheel for pyspark (setup.py) ... \u001b[?25l\u001b[?25hdone\n",
            "  Created wheel for pyspark: filename=pyspark-3.1.2-py2.py3-none-any.whl size=212880768 sha256=0cb800f32931a2a5513356df4d9f69eeff0149b3d18627d3c31c3b8a4a344727\n",
            "  Stored in directory: /root/.cache/pip/wheels/a5/0a/c1/9561f6fecb759579a7d863dcd846daaa95f598744e71b02c77\n",
            "Successfully built pyspark\n",
            "Installing collected packages: py4j, pyspark\n",
            "Successfully installed py4j-0.10.9 pyspark-3.1.2\n"
          ],
          "name": "stdout"
        }
      ]
    },
    {
      "cell_type": "code",
      "metadata": {
        "id": "udx1gA8pHPPa"
      },
      "source": [
        "import pyspark"
      ],
      "execution_count": 3,
      "outputs": []
    },
    {
      "cell_type": "code",
      "metadata": {
        "id": "FD--nbC1HQdw"
      },
      "source": [
        "from pyspark.sql import SparkSession"
      ],
      "execution_count": 4,
      "outputs": []
    },
    {
      "cell_type": "code",
      "metadata": {
        "id": "jpQNF2z4HSxq"
      },
      "source": [
        "spark=SparkSession.builder.appName('RF').getOrCreate()"
      ],
      "execution_count": 5,
      "outputs": []
    },
    {
      "cell_type": "code",
      "metadata": {
        "colab": {
          "base_uri": "https://localhost:8080/"
        },
        "id": "lM1mRDbPHV2z",
        "outputId": "ec088c40-d3d8-403b-af5e-f7999c59ce07"
      },
      "source": [
        "# Mounting Google Drive\n",
        "from google.colab import drive\n",
        "drive.mount('/content/drive')"
      ],
      "execution_count": 7,
      "outputs": [
        {
          "output_type": "stream",
          "text": [
            "Mounted at /content/drive\n"
          ],
          "name": "stdout"
        }
      ]
    },
    {
      "cell_type": "code",
      "metadata": {
        "id": "3w_Rb7i5HYr0"
      },
      "source": [
        "file_path = '/content/drive//MyDrive/'\n",
        "data=spark.read.csv(file_path +'dog_food - Copy.csv',inferSchema=True,header=True)"
      ],
      "execution_count": 8,
      "outputs": []
    },
    {
      "cell_type": "code",
      "metadata": {
        "colab": {
          "base_uri": "https://localhost:8080/"
        },
        "id": "_cnnmmYfHmWS",
        "outputId": "4029aa28-00d7-4a2d-dc2b-5428c1b411ae"
      },
      "source": [
        "data.show()"
      ],
      "execution_count": 9,
      "outputs": [
        {
          "output_type": "stream",
          "text": [
            "+---+---+----+---+-------+\n",
            "|  A|  B|   C|  D|Spoiled|\n",
            "+---+---+----+---+-------+\n",
            "|  4|  2|12.0|  3|    1.0|\n",
            "|  5|  6|12.0|  7|    1.0|\n",
            "|  6|  2|13.0|  6|    1.0|\n",
            "|  4|  2|12.0|  1|    1.0|\n",
            "|  4|  2|12.0|  3|    1.0|\n",
            "| 10|  3|13.0|  9|    1.0|\n",
            "|  8|  5|14.0|  5|    1.0|\n",
            "|  5|  8|12.0|  8|    1.0|\n",
            "|  6|  5|12.0|  9|    1.0|\n",
            "|  3|  3|12.0|  1|    1.0|\n",
            "|  9|  8|11.0|  3|    1.0|\n",
            "|  1| 10|12.0|  3|    1.0|\n",
            "|  1|  5|13.0| 10|    1.0|\n",
            "|  2| 10|12.0|  6|    1.0|\n",
            "|  1| 10|11.0|  4|    1.0|\n",
            "|  5|  3|12.0|  2|    1.0|\n",
            "|  4|  9|11.0|  8|    1.0|\n",
            "|  5|  1|11.0|  1|    1.0|\n",
            "|  4|  9|12.0| 10|    1.0|\n",
            "|  5|  8|10.0|  9|    1.0|\n",
            "+---+---+----+---+-------+\n",
            "only showing top 20 rows\n",
            "\n"
          ],
          "name": "stdout"
        }
      ]
    },
    {
      "cell_type": "code",
      "metadata": {
        "id": "8FR0j9B8JM0M"
      },
      "source": [
        "from pyspark.ml.feature import VectorAssembler\n",
        "featureassembler=VectorAssembler(inputCols=[\"A\",\"B\",\"C\",\"D\"],outputCol=\"Independent Features\")"
      ],
      "execution_count": 17,
      "outputs": []
    },
    {
      "cell_type": "code",
      "metadata": {
        "id": "bUMfofOcKAFM"
      },
      "source": [
        "output=featureassembler.transform(data)"
      ],
      "execution_count": 18,
      "outputs": []
    },
    {
      "cell_type": "code",
      "metadata": {
        "id": "PumY7mH9toI2"
      },
      "source": [
        "from pyspark.ml.classification import RandomForestClassifier"
      ],
      "execution_count": 19,
      "outputs": []
    },
    {
      "cell_type": "code",
      "metadata": {
        "id": "vnZLQawWtz4v"
      },
      "source": [
        "rfc=RandomForestClassifier(labelCol='Spoiled',featuresCol='Independent Features')"
      ],
      "execution_count": 26,
      "outputs": []
    },
    {
      "cell_type": "code",
      "metadata": {
        "colab": {
          "base_uri": "https://localhost:8080/"
        },
        "id": "sc8ht_mYuRrW",
        "outputId": "b03673d0-4629-4a9f-ef43-c0ab3161eead"
      },
      "source": [
        "output.printSchema()"
      ],
      "execution_count": 27,
      "outputs": [
        {
          "output_type": "stream",
          "text": [
            "root\n",
            " |-- A: integer (nullable = true)\n",
            " |-- B: integer (nullable = true)\n",
            " |-- C: double (nullable = true)\n",
            " |-- D: integer (nullable = true)\n",
            " |-- Spoiled: double (nullable = true)\n",
            " |-- Independent Features: vector (nullable = true)\n",
            "\n"
          ],
          "name": "stdout"
        }
      ]
    },
    {
      "cell_type": "code",
      "metadata": {
        "id": "AgNpUW6SuZOR"
      },
      "source": [
        "final_data=output.select(['Independent Features','Spoiled'])"
      ],
      "execution_count": 28,
      "outputs": []
    },
    {
      "cell_type": "code",
      "metadata": {
        "colab": {
          "base_uri": "https://localhost:8080/"
        },
        "id": "TJY8lGX9ufiM",
        "outputId": "dd4ebdd3-e76c-48d6-89b2-fc3e5a938836"
      },
      "source": [
        "final_data.show()"
      ],
      "execution_count": 29,
      "outputs": [
        {
          "output_type": "stream",
          "text": [
            "+--------------------+-------+\n",
            "|Independent Features|Spoiled|\n",
            "+--------------------+-------+\n",
            "|  [4.0,2.0,12.0,3.0]|    1.0|\n",
            "|  [5.0,6.0,12.0,7.0]|    1.0|\n",
            "|  [6.0,2.0,13.0,6.0]|    1.0|\n",
            "|  [4.0,2.0,12.0,1.0]|    1.0|\n",
            "|  [4.0,2.0,12.0,3.0]|    1.0|\n",
            "| [10.0,3.0,13.0,9.0]|    1.0|\n",
            "|  [8.0,5.0,14.0,5.0]|    1.0|\n",
            "|  [5.0,8.0,12.0,8.0]|    1.0|\n",
            "|  [6.0,5.0,12.0,9.0]|    1.0|\n",
            "|  [3.0,3.0,12.0,1.0]|    1.0|\n",
            "|  [9.0,8.0,11.0,3.0]|    1.0|\n",
            "| [1.0,10.0,12.0,3.0]|    1.0|\n",
            "| [1.0,5.0,13.0,10.0]|    1.0|\n",
            "| [2.0,10.0,12.0,6.0]|    1.0|\n",
            "| [1.0,10.0,11.0,4.0]|    1.0|\n",
            "|  [5.0,3.0,12.0,2.0]|    1.0|\n",
            "|  [4.0,9.0,11.0,8.0]|    1.0|\n",
            "|  [5.0,1.0,11.0,1.0]|    1.0|\n",
            "| [4.0,9.0,12.0,10.0]|    1.0|\n",
            "|  [5.0,8.0,10.0,9.0]|    1.0|\n",
            "+--------------------+-------+\n",
            "only showing top 20 rows\n",
            "\n"
          ],
          "name": "stdout"
        }
      ]
    },
    {
      "cell_type": "code",
      "metadata": {
        "id": "plHKrk1Ruw31"
      },
      "source": [
        "rfc_model=rfc.fit(final_data)"
      ],
      "execution_count": 30,
      "outputs": []
    },
    {
      "cell_type": "code",
      "metadata": {
        "colab": {
          "base_uri": "https://localhost:8080/"
        },
        "id": "9CEYjNU7z-Ko",
        "outputId": "74474114-3fba-4f06-de8e-21059de69f62"
      },
      "source": [
        "rfc_model.featureImportances"
      ],
      "execution_count": 31,
      "outputs": [
        {
          "output_type": "execute_result",
          "data": {
            "text/plain": [
              "SparseVector(4, {0: 0.0164, 1: 0.0127, 2: 0.9541, 3: 0.0168})"
            ]
          },
          "metadata": {
            "tags": []
          },
          "execution_count": 31
        }
      ]
    },
    {
      "cell_type": "code",
      "metadata": {
        "id": "62N4RVuA0cDV"
      },
      "source": [
        ""
      ],
      "execution_count": null,
      "outputs": []
    }
  ]
}