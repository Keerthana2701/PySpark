{
  "nbformat": 4,
  "nbformat_minor": 0,
  "metadata": {
    "colab": {
      "name": "PySpark-KMeans.ipynb",
      "provenance": [],
      "collapsed_sections": []
    },
    "kernelspec": {
      "name": "python3",
      "display_name": "Python 3"
    },
    "language_info": {
      "name": "python"
    }
  },
  "cells": [
    {
      "cell_type": "code",
      "metadata": {
        "colab": {
          "base_uri": "https://localhost:8080/"
        },
        "id": "mEHSYJspfmQs",
        "outputId": "e18b9aa2-7707-4e11-896a-cc10968239b1"
      },
      "source": [
        "pip install pyspark"
      ],
      "execution_count": 1,
      "outputs": [
        {
          "output_type": "stream",
          "text": [
            "Collecting pyspark\n",
            "  Downloading pyspark-3.1.2.tar.gz (212.4 MB)\n",
            "\u001b[K     |████████████████████████████████| 212.4 MB 62 kB/s \n",
            "\u001b[?25hCollecting py4j==0.10.9\n",
            "  Downloading py4j-0.10.9-py2.py3-none-any.whl (198 kB)\n",
            "\u001b[K     |████████████████████████████████| 198 kB 40.9 MB/s \n",
            "\u001b[?25hBuilding wheels for collected packages: pyspark\n",
            "  Building wheel for pyspark (setup.py) ... \u001b[?25l\u001b[?25hdone\n",
            "  Created wheel for pyspark: filename=pyspark-3.1.2-py2.py3-none-any.whl size=212880768 sha256=821620adf9aec9b6ef6944e89173a9518bcc769911c406499b11a199403e3611\n",
            "  Stored in directory: /root/.cache/pip/wheels/a5/0a/c1/9561f6fecb759579a7d863dcd846daaa95f598744e71b02c77\n",
            "Successfully built pyspark\n",
            "Installing collected packages: py4j, pyspark\n",
            "Successfully installed py4j-0.10.9 pyspark-3.1.2\n"
          ],
          "name": "stdout"
        }
      ]
    },
    {
      "cell_type": "code",
      "metadata": {
        "id": "_S8kQj9Rjbok"
      },
      "source": [
        "import pyspark"
      ],
      "execution_count": 2,
      "outputs": []
    },
    {
      "cell_type": "code",
      "metadata": {
        "id": "xTU6N-dojdCu"
      },
      "source": [
        "from pyspark.sql import SparkSession"
      ],
      "execution_count": 3,
      "outputs": []
    },
    {
      "cell_type": "code",
      "metadata": {
        "id": "JTs-OznFjeXx"
      },
      "source": [
        "spark=SparkSession.builder.appName('kmeans').getOrCreate()"
      ],
      "execution_count": 4,
      "outputs": []
    },
    {
      "cell_type": "code",
      "metadata": {
        "colab": {
          "base_uri": "https://localhost:8080/"
        },
        "id": "YJzRKBnfjuJn",
        "outputId": "3c21e176-dce1-445c-f5ea-281fc5f446d8"
      },
      "source": [
        "# Mounting Google Drive\n",
        "from google.colab import drive\n",
        "drive.mount('/content/drive')"
      ],
      "execution_count": 5,
      "outputs": [
        {
          "output_type": "stream",
          "text": [
            "Mounted at /content/drive\n"
          ],
          "name": "stdout"
        }
      ]
    },
    {
      "cell_type": "code",
      "metadata": {
        "id": "msQwXUSPjvxr"
      },
      "source": [
        "file_path = '/content/drive/MyDrive/'\n",
        "data=spark.read.csv(file_path +'seeds_dataset.csv',inferSchema=True,header=True)"
      ],
      "execution_count": 9,
      "outputs": []
    },
    {
      "cell_type": "code",
      "metadata": {
        "colab": {
          "base_uri": "https://localhost:8080/"
        },
        "id": "7itazUIZkCOE",
        "outputId": "1a1f3b6f-f15a-4549-d9ce-f61898867076"
      },
      "source": [
        "data.head()"
      ],
      "execution_count": 10,
      "outputs": [
        {
          "output_type": "execute_result",
          "data": {
            "text/plain": [
              "Row(area=15.26, perimeter=14.84, compactness=0.871, length_of_kernel=5.763, width_of_kernel=3.312, asymmetry_coefficient=2.221, length_of_groove=5.22)"
            ]
          },
          "metadata": {
            "tags": []
          },
          "execution_count": 10
        }
      ]
    },
    {
      "cell_type": "code",
      "metadata": {
        "colab": {
          "base_uri": "https://localhost:8080/"
        },
        "id": "zgGA2HWVkUOx",
        "outputId": "14f5354b-c67b-4ff2-982f-278f0dc08fc0"
      },
      "source": [
        "data.printSchema()"
      ],
      "execution_count": 11,
      "outputs": [
        {
          "output_type": "stream",
          "text": [
            "root\n",
            " |-- area: double (nullable = true)\n",
            " |-- perimeter: double (nullable = true)\n",
            " |-- compactness: double (nullable = true)\n",
            " |-- length_of_kernel: double (nullable = true)\n",
            " |-- width_of_kernel: double (nullable = true)\n",
            " |-- asymmetry_coefficient: double (nullable = true)\n",
            " |-- length_of_groove: double (nullable = true)\n",
            "\n"
          ],
          "name": "stdout"
        }
      ]
    },
    {
      "cell_type": "code",
      "metadata": {
        "colab": {
          "base_uri": "https://localhost:8080/"
        },
        "id": "kzKbcsiKkXmi",
        "outputId": "1542a714-0da6-4d1e-b5d0-091ddf5dca81"
      },
      "source": [
        "data.show()"
      ],
      "execution_count": 12,
      "outputs": [
        {
          "output_type": "stream",
          "text": [
            "+-----+---------+-----------+------------------+------------------+---------------------+------------------+\n",
            "| area|perimeter|compactness|  length_of_kernel|   width_of_kernel|asymmetry_coefficient|  length_of_groove|\n",
            "+-----+---------+-----------+------------------+------------------+---------------------+------------------+\n",
            "|15.26|    14.84|      0.871|             5.763|             3.312|                2.221|              5.22|\n",
            "|14.88|    14.57|     0.8811| 5.553999999999999|             3.333|                1.018|             4.956|\n",
            "|14.29|    14.09|      0.905|             5.291|3.3369999999999997|                2.699|             4.825|\n",
            "|13.84|    13.94|     0.8955|             5.324|3.3789999999999996|                2.259|             4.805|\n",
            "|16.14|    14.99|     0.9034|5.6579999999999995|             3.562|                1.355|             5.175|\n",
            "|14.38|    14.21|     0.8951|             5.386|             3.312|   2.4619999999999997|             4.956|\n",
            "|14.69|    14.49|     0.8799|             5.563|             3.259|   3.5860000000000003| 5.218999999999999|\n",
            "|14.11|     14.1|     0.8911|              5.42|             3.302|                  2.7|               5.0|\n",
            "|16.63|    15.46|     0.8747|             6.053|             3.465|                 2.04| 5.877000000000001|\n",
            "|16.44|    15.25|      0.888|5.8839999999999995|             3.505|                1.969|5.5329999999999995|\n",
            "|15.26|    14.85|     0.8696|5.7139999999999995|             3.242|                4.543|             5.314|\n",
            "|14.03|    14.16|     0.8796|             5.438|             3.201|   1.7169999999999999|             5.001|\n",
            "|13.89|    14.02|      0.888|             5.439|             3.199|                3.986|             4.738|\n",
            "|13.78|    14.06|     0.8759|             5.479|             3.156|                3.136|             4.872|\n",
            "|13.74|    14.05|     0.8744|             5.482|             3.114|                2.932|             4.825|\n",
            "|14.59|    14.28|     0.8993|             5.351|             3.333|                4.185| 4.781000000000001|\n",
            "|13.99|    13.83|     0.9183|             5.119|             3.383|                5.234| 4.781000000000001|\n",
            "|15.69|    14.75|     0.9058|             5.527|             3.514|                1.599|             5.046|\n",
            "| 14.7|    14.21|     0.9153|             5.205|             3.466|                1.767|             4.649|\n",
            "|12.72|    13.57|     0.8686|             5.226|             3.049|                4.102|             4.914|\n",
            "+-----+---------+-----------+------------------+------------------+---------------------+------------------+\n",
            "only showing top 20 rows\n",
            "\n"
          ],
          "name": "stdout"
        }
      ]
    },
    {
      "cell_type": "code",
      "metadata": {
        "id": "-JIsS4vTkZz4"
      },
      "source": [
        "from pyspark.ml.clustering import KMeans"
      ],
      "execution_count": 13,
      "outputs": []
    },
    {
      "cell_type": "code",
      "metadata": {
        "id": "gQmyD6pVlH-O"
      },
      "source": [
        "from pyspark.ml.feature import VectorAssembler\n",
        "featureassembler=VectorAssembler(inputCols=data.columns,outputCol=\"Independent Features\")"
      ],
      "execution_count": 14,
      "outputs": []
    },
    {
      "cell_type": "code",
      "metadata": {
        "id": "8TSo3QAnmjVb"
      },
      "source": [
        "finaldata=featureassembler.transform(data)"
      ],
      "execution_count": 15,
      "outputs": []
    },
    {
      "cell_type": "code",
      "metadata": {
        "colab": {
          "base_uri": "https://localhost:8080/"
        },
        "id": "VdXxiBd3mqzA",
        "outputId": "c3d7ac32-fb6f-4fb1-847f-8b16e02855a2"
      },
      "source": [
        "finaldata.printSchema()"
      ],
      "execution_count": 16,
      "outputs": [
        {
          "output_type": "stream",
          "text": [
            "root\n",
            " |-- area: double (nullable = true)\n",
            " |-- perimeter: double (nullable = true)\n",
            " |-- compactness: double (nullable = true)\n",
            " |-- length_of_kernel: double (nullable = true)\n",
            " |-- width_of_kernel: double (nullable = true)\n",
            " |-- asymmetry_coefficient: double (nullable = true)\n",
            " |-- length_of_groove: double (nullable = true)\n",
            " |-- Independent Features: vector (nullable = true)\n",
            "\n"
          ],
          "name": "stdout"
        }
      ]
    },
    {
      "cell_type": "code",
      "metadata": {
        "id": "GIHyCEDLmsu3"
      },
      "source": [
        "from pyspark.ml.feature import StandardScaler"
      ],
      "execution_count": 17,
      "outputs": []
    },
    {
      "cell_type": "code",
      "metadata": {
        "id": "44BLxkHLm2dT"
      },
      "source": [
        "sc=StandardScaler(inputCol='Independent Features',outputCol='Scaled Features')"
      ],
      "execution_count": 18,
      "outputs": []
    },
    {
      "cell_type": "code",
      "metadata": {
        "id": "oXQZaQoynHf8"
      },
      "source": [
        "scaled=sc.fit(finaldata)"
      ],
      "execution_count": 19,
      "outputs": []
    },
    {
      "cell_type": "code",
      "metadata": {
        "id": "_FTiczdDnS3A"
      },
      "source": [
        "finaldata=scaled.transform(finaldata)"
      ],
      "execution_count": 20,
      "outputs": []
    },
    {
      "cell_type": "code",
      "metadata": {
        "colab": {
          "base_uri": "https://localhost:8080/"
        },
        "id": "vsGOgB3znZqD",
        "outputId": "b7963164-b528-445f-a577-167b21e04d9a"
      },
      "source": [
        "finaldata.head() # we get scaled Features column"
      ],
      "execution_count": 21,
      "outputs": [
        {
          "output_type": "execute_result",
          "data": {
            "text/plain": [
              "Row(area=15.26, perimeter=14.84, compactness=0.871, length_of_kernel=5.763, width_of_kernel=3.312, asymmetry_coefficient=2.221, length_of_groove=5.22, Independent Features=DenseVector([15.26, 14.84, 0.871, 5.763, 3.312, 2.221, 5.22]), Scaled Features=DenseVector([5.2445, 11.3633, 36.8608, 13.0072, 8.7685, 1.4772, 10.621]))"
            ]
          },
          "metadata": {
            "tags": []
          },
          "execution_count": 21
        }
      ]
    },
    {
      "cell_type": "code",
      "metadata": {
        "id": "93-THETHnljQ"
      },
      "source": [
        "kmeans=KMeans(featuresCol='Scaled Features',k=3)"
      ],
      "execution_count": 24,
      "outputs": []
    },
    {
      "cell_type": "code",
      "metadata": {
        "id": "TayjEzddoAbZ"
      },
      "source": [
        "model=kmeans.fit(finaldata)"
      ],
      "execution_count": 25,
      "outputs": []
    },
    {
      "cell_type": "code",
      "metadata": {
        "id": "rf5xBAiEoCc5"
      },
      "source": [
        "clustercenter=model.clusterCenters()"
      ],
      "execution_count": 26,
      "outputs": []
    },
    {
      "cell_type": "code",
      "metadata": {
        "colab": {
          "base_uri": "https://localhost:8080/"
        },
        "id": "CxgCaI4LpWnS",
        "outputId": "ec0e53ed-5774-423e-eeb8-887b4cc228fc"
      },
      "source": [
        "clustercenter  # 3 centers as we gave k=3"
      ],
      "execution_count": 27,
      "outputs": [
        {
          "output_type": "execute_result",
          "data": {
            "text/plain": [
              "[array([ 4.87257659, 10.88120146, 37.27692543, 12.3410157 ,  8.55443412,\n",
              "         1.81649011, 10.32998598]),\n",
              " array([ 6.31670546, 12.37109759, 37.39491396, 13.91155062,  9.748067  ,\n",
              "         2.39849968, 12.2661748 ]),\n",
              " array([ 4.06105916, 10.13979506, 35.80536984, 11.82133095,  7.50395937,\n",
              "         3.27184732, 10.42126018])]"
            ]
          },
          "metadata": {
            "tags": []
          },
          "execution_count": 27
        }
      ]
    },
    {
      "cell_type": "code",
      "metadata": {
        "colab": {
          "base_uri": "https://localhost:8080/"
        },
        "id": "UVXQ-ulMpYMA",
        "outputId": "35494cd3-43e1-4db4-c8a3-dee746badaa3"
      },
      "source": [
        "model.transform(finaldata)"
      ],
      "execution_count": 28,
      "outputs": [
        {
          "output_type": "execute_result",
          "data": {
            "text/plain": [
              "DataFrame[area: double, perimeter: double, compactness: double, length_of_kernel: double, width_of_kernel: double, asymmetry_coefficient: double, length_of_groove: double, Independent Features: vector, Scaled Features: vector, prediction: int]"
            ]
          },
          "metadata": {
            "tags": []
          },
          "execution_count": 28
        }
      ]
    },
    {
      "cell_type": "code",
      "metadata": {
        "colab": {
          "base_uri": "https://localhost:8080/"
        },
        "id": "EyriqOWBp08n",
        "outputId": "04664dff-7777-4ab0-99e6-e6a1d6fb552f"
      },
      "source": [
        "model.transform(finaldata).select('prediction').show()  # gives groups of 0,1,2"
      ],
      "execution_count": 29,
      "outputs": [
        {
          "output_type": "stream",
          "text": [
            "+----------+\n",
            "|prediction|\n",
            "+----------+\n",
            "|         0|\n",
            "|         0|\n",
            "|         0|\n",
            "|         0|\n",
            "|         0|\n",
            "|         0|\n",
            "|         0|\n",
            "|         0|\n",
            "|         1|\n",
            "|         1|\n",
            "|         0|\n",
            "|         0|\n",
            "|         0|\n",
            "|         0|\n",
            "|         0|\n",
            "|         0|\n",
            "|         0|\n",
            "|         0|\n",
            "|         0|\n",
            "|         2|\n",
            "+----------+\n",
            "only showing top 20 rows\n",
            "\n"
          ],
          "name": "stdout"
        }
      ]
    },
    {
      "cell_type": "code",
      "metadata": {
        "colab": {
          "base_uri": "https://localhost:8080/"
        },
        "id": "GkYmZ5ovp84H",
        "outputId": "419209ae-6bc2-4cbe-d6a9-d9151ba98805"
      },
      "source": [
        "model.transform(finaldata).groupBy('prediction').count().show()"
      ],
      "execution_count": 31,
      "outputs": [
        {
          "output_type": "stream",
          "text": [
            "+----------+-----+\n",
            "|prediction|count|\n",
            "+----------+-----+\n",
            "|         1|   70|\n",
            "|         2|   65|\n",
            "|         0|   75|\n",
            "+----------+-----+\n",
            "\n"
          ],
          "name": "stdout"
        }
      ]
    },
    {
      "cell_type": "code",
      "metadata": {
        "id": "VJ50ZuL4qPjz"
      },
      "source": [
        ""
      ],
      "execution_count": null,
      "outputs": []
    }
  ]
}